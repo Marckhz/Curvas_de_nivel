{
 "cells": [
  {
   "cell_type": "code",
   "execution_count": 1,
   "metadata": {},
   "outputs": [
    {
     "name": "stdout",
     "output_type": "stream",
     "text": [
      "la colonia mas culera es  CENTRO\n"
     ]
    }
   ],
   "source": [
    "import csv\n",
    "import statistics as st\n",
    "read_file = open('crimen.csv', 'r')\n",
    "file = csv.DictReader(read_file)\n",
    "\n",
    "colonias = []\n",
    "mes = []\n",
    "for line in file:\n",
    "\n",
    "    col = line['Colonia']\n",
    "    delito = line['Delito']\n",
    "    mes = line ['Mes']\n",
    "\n",
    "    if col != 'CULIACAN' and 'DESCONOCIDO':\n",
    "        colonias.append(col)\n",
    "    #print(mes)\n",
    "\n",
    "\n",
    "#print(colonias)\n",
    "print(\"la colonia mas culera es \", st.mode(colonias))\n",
    "del colonias\n",
    "\n"
   ]
  },
  {
   "cell_type": "code",
   "execution_count": null,
   "metadata": {},
   "outputs": [],
   "source": []
  }
 ],
 "metadata": {
  "kernelspec": {
   "display_name": "Python 3",
   "language": "python",
   "name": "python3"
  },
  "language_info": {
   "codemirror_mode": {
    "name": "ipython",
    "version": 3
   },
   "file_extension": ".py",
   "mimetype": "text/x-python",
   "name": "python",
   "nbconvert_exporter": "python",
   "pygments_lexer": "ipython3",
   "version": "3.7.3"
  }
 },
 "nbformat": 4,
 "nbformat_minor": 2
}
